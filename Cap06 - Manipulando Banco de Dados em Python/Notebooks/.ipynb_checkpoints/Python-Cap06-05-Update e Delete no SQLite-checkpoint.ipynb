{
 "cells": [
  {
   "cell_type": "markdown",
   "metadata": {},
   "source": [
    "### Update e Delete"
   ]
  },
  {
   "cell_type": "code",
   "execution_count": 1,
   "metadata": {},
   "outputs": [],
   "source": [
    "import sqlite3\n",
    "import random\n",
    "import time\n",
    "import datetime\n",
    " \n",
    "# Criando uma conexão\n",
    "conn = sqlite3.connect('dsa.db')   \n",
    "\n",
    "# Criando um cursor\n",
    "c = conn.cursor()\n",
    " \n",
    "# Função para criar uma tabela\n",
    "def create_table():\n",
    "    c.execute('CREATE TABLE IF NOT EXISTS produtos(id INTEGER PRIMARY KEY AUTOINCREMENT NOT NULL, date TEXT, '\\\n",
    "              'prod_name TEXT, valor REAL)')\n",
    "      \n",
    "# Função para inserir uma linha\n",
    "def data_insert():\n",
    "    c.execute(\"INSERT INTO produtos VALUES(002, '02-05-2020', 'teclado', 130 )\")\n",
    "    conn.commit()\n",
    "    c.close()\n",
    "    conn.close()\n",
    "    \n",
    "# Usando variáveis para inserir dados    \n",
    "def data_insert_var():\n",
    "    new_date = datetime.datetime.now()\n",
    "    new_prod_name = 'monitor'\n",
    "    new_valor = random.randrange(50,100)\n",
    "    c.execute(\"INSERT INTO produtos (date, prod_name, valor) VALUES (?, ?, ?, ?)\", \n",
    "              (new_date, new_prod_name, new_valor))\n",
    "    conn.commit()\n",
    "    \n",
    "# Leitura de dados\n",
    "def leitura_todos_dados():\n",
    "    c.execute(\"SELECT * FROM PRODUTOS\")\n",
    "    for linha in c.fetchall():\n",
    "        print(linha)\n",
    "        \n",
    "# Leitura de registros específicos\n",
    "def leitura_registros():\n",
    "    c.execute(\"SELECT * FROM PRODUTOS WHERE valor > 70.0\")\n",
    "    for linha in c.fetchall():\n",
    "        print(linha)      \n",
    "        \n",
    "# Leitura de colunas específicos\n",
    "def leitura_colunas():\n",
    "    c.execute(\"SELECT * FROM PRODUTOS\")\n",
    "    for linha in c.fetchall():\n",
    "        print(linha[3])  \n",
    "        \n",
    "# Update\n",
    "def atualiza_dados():\n",
    "    c.execute(\"UPDATE produtos SET valor = 70.00 WHERE valor = 98.0\")\n",
    "    conn.commit()\n",
    "    \n",
    "# Delete\n",
    "def remove_dados():\n",
    "    c.execute(\"DELETE FROM produtos WHERE valor = 62.0\")\n",
    "    conn.commit()"
   ]
  },
  {
   "cell_type": "code",
   "execution_count": 2,
   "metadata": {},
   "outputs": [],
   "source": [
    "atualiza_dados()"
   ]
  },
  {
   "cell_type": "code",
   "execution_count": 3,
   "metadata": {},
   "outputs": [
    {
     "name": "stdout",
     "output_type": "stream",
     "text": [
      "(10, '2020-05-02 14:32:11', 'Teclado', 90.0)\n",
      "(11, '2020-08-25 15:22:59.706744', 'Monitor', 64.0)\n",
      "(12, '2020-08-25 15:23:00.736100', 'Monitor', 76.0)\n",
      "(13, '2020-08-25 15:23:01.776488', 'Monitor', 50.0)\n",
      "(14, '2020-08-25 15:23:02.800862', 'Monitor', 60.0)\n",
      "(15, '2020-08-25 15:23:03.822257', 'Monitor', 63.0)\n",
      "(16, '2020-08-25 15:23:04.846586', 'Monitor', 57.0)\n",
      "(17, '2020-08-25 15:23:05.867018', 'Monitor', 74.0)\n",
      "(18, '2020-08-25 15:23:06.890298', 'Monitor', 52.0)\n",
      "(19, '2020-08-25 15:23:07.911191', 'Monitor', 51.0)\n",
      "(20, '2020-08-25 15:23:08.934931', 'Monitor', 61.0)\n"
     ]
    }
   ],
   "source": [
    "leitura_todos_dados()"
   ]
  },
  {
   "cell_type": "code",
   "execution_count": 4,
   "metadata": {},
   "outputs": [],
   "source": [
    "remove_dados()"
   ]
  },
  {
   "cell_type": "code",
   "execution_count": 5,
   "metadata": {},
   "outputs": [
    {
     "name": "stdout",
     "output_type": "stream",
     "text": [
      "(10, '2020-05-02 14:32:11', 'Teclado', 90.0)\n",
      "(11, '2020-08-25 15:22:59.706744', 'Monitor', 64.0)\n",
      "(12, '2020-08-25 15:23:00.736100', 'Monitor', 76.0)\n",
      "(13, '2020-08-25 15:23:01.776488', 'Monitor', 50.0)\n",
      "(14, '2020-08-25 15:23:02.800862', 'Monitor', 60.0)\n",
      "(15, '2020-08-25 15:23:03.822257', 'Monitor', 63.0)\n",
      "(16, '2020-08-25 15:23:04.846586', 'Monitor', 57.0)\n",
      "(17, '2020-08-25 15:23:05.867018', 'Monitor', 74.0)\n",
      "(18, '2020-08-25 15:23:06.890298', 'Monitor', 52.0)\n",
      "(19, '2020-08-25 15:23:07.911191', 'Monitor', 51.0)\n",
      "(20, '2020-08-25 15:23:08.934931', 'Monitor', 61.0)\n"
     ]
    }
   ],
   "source": [
    "leitura_todos_dados()"
   ]
  }
 ],
 "metadata": {
  "kernelspec": {
   "display_name": "Python 3",
   "language": "python",
   "name": "python3"
  },
  "language_info": {
   "codemirror_mode": {
    "name": "ipython",
    "version": 3
   },
   "file_extension": ".py",
   "mimetype": "text/x-python",
   "name": "python",
   "nbconvert_exporter": "python",
   "pygments_lexer": "ipython3",
   "version": "3.8.3"
  }
 },
 "nbformat": 4,
 "nbformat_minor": 1
}
